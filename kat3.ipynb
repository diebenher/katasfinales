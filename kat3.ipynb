{
 "cells": [
  {
   "cell_type": "markdown",
   "metadata": {},
   "source": [
    "# Escribir declaraciones if, else, y elif\n",
    "Para este ejercicio, escribirás una lógica condicional que imprima una advertencia si un asteroide se acerca a la Tierra demasiado rápido. La velocidad del asteroide varía dependiendo de lo cerca que esté del sol, y cualquier velocidad superior a 25 kilómetros por segundo (km/s) merece una advertencia.\n",
    "\n",
    "Un asteroide se acerca, y viaja a una velocidad de 49 km/s."
   ]
  },
  {
   "cell_type": "code",
   "execution_count": 1,
   "metadata": {},
   "outputs": [
    {
     "name": "stdout",
     "output_type": "stream",
     "text": [
      "Advertencia -Asteroide viajando a alta velocidad-\n"
     ]
    }
   ],
   "source": [
    "v = 49\n",
    "if v >= 25:\n",
    "    print(\"Advertencia -Asteroide viajando a alta velocidad-\")\n",
    "else:\n",
    "    print(\"Sin Variaciones\")"
   ]
  },
  {
   "cell_type": "markdown",
   "metadata": {},
   "source": [
    "# Uso de operadores and y or\n",
    "En este ejercicio, aprenderás información más matizada sobre cuándo los asteroides representan un peligro para la Tierra, y utilizarás esa información para mejorar nuestro sistema de advertencia. Aquí está la nueva información que necesitas saber:\n",
    "\n",
    "*Los asteroides de menos de 25 metros en su dimensión más grande probablemente se quemarán a medida que entren en la atmósfera de la Tierra.\n",
    "\n",
    "Si una pieza de un asteroide que es más grande que 25 metros pero más pequeña que 1000 metros golpeara la Tierra, causaría mucho daño."
   ]
  },
  {
   "cell_type": "code",
   "execution_count": 2,
   "metadata": {},
   "outputs": [
    {
     "name": "stdout",
     "output_type": "stream",
     "text": [
      "Advertencia -Tamaño exorbitante peligro-\n"
     ]
    }
   ],
   "source": [
    "t = 25\n",
    "if t < 25:\n",
    "    print(\"Se destruye en la atmosfera\")\n",
    "else: \n",
    "    t <= 25 or t > 1000\n",
    "    print(\"Advertencia -Tamaño exorbitante peligro-\")\n"
   ]
  },
  {
   "cell_type": "markdown",
   "metadata": {},
   "source": [
    "#También discutimos en el ejercicio anterior que:\n",
    "\n",
    "La velocidad del asteroide varía en función de lo cerca que esté del sol, y cualquier velocidad superior a 25 kilómetros por segundo (km/s) merece una advertencia.\n",
    "Si un asteroide entra en la atmósfera de la Tierra a una velocidad mayor o igual a 20 km/s, a veces produce un rayo de luz que se puede ver desde la Tierra.\n",
    "Usando toda esta información, escribe un programa que emita la advertencia o información correcta a la gente de la Tierra, según la velocidad y el tamaño de un asteroide. Utiliza instrucciones if, else, y elif, así como los operadores and y or."
   ]
  },
  {
   "cell_type": "code",
   "execution_count": 3,
   "metadata": {},
   "outputs": [
    {
     "name": "stdout",
     "output_type": "stream",
     "text": [
      "Advertencia -Tamaño exorbitante peligro-\n",
      "Advertencia -Asteroide viajando a alta velocidad-\n",
      "-Luces en el cielo-\n"
     ]
    }
   ],
   "source": [
    "t = 100\n",
    "v = 26\n",
    "\n",
    "\n",
    "\n",
    "if t>= 25 or t> 1000:\n",
    "    print(\"Advertencia -Tamaño exorbitante peligro-\") \n",
    "if v>25 :\n",
    "    print(\"Advertencia -Asteroide viajando a alta velocidad-\")\n",
    "if v>20:\n",
    "    print(\"-Luces en el cielo-\")\n",
    "else:\n",
    "    print(\"Sin variaciones\")"
   ]
  }
 ],
 "metadata": {
  "interpreter": {
   "hash": "f17fd92e9aadae23dec571baebdc75da44c7e06e65341d6210260adcd9634ebd"
  },
  "kernelspec": {
   "display_name": "Python 3.10.2 64-bit",
   "language": "python",
   "name": "python3"
  },
  "language_info": {
   "codemirror_mode": {
    "name": "ipython",
    "version": 3
   },
   "file_extension": ".py",
   "mimetype": "text/x-python",
   "name": "python",
   "nbconvert_exporter": "python",
   "pygments_lexer": "ipython3",
   "version": "3.10.2"
  },
  "orig_nbformat": 4
 },
 "nbformat": 4,
 "nbformat_minor": 2
}
